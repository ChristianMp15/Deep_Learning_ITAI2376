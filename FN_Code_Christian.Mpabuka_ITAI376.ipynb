{
 "cells": [
  {
   "cell_type": "markdown",
   "id": "cdb97e9b",
   "metadata": {
    "id": "cdb97e9b"
   },
   "source": [
    "# AI-Powered Interactive Learning Companion\n",
    "This notebook implements an interactive learning agent that provides personalized feedback, hints, and learning path suggestions for programming students."
   ]
  },
  {
   "cell_type": "code",
   "execution_count": 1,
   "id": "ebe25367",
   "metadata": {
    "colab": {
     "base_uri": "https://localhost:8080/"
    },
    "id": "ebe25367",
    "outputId": "b471a056-9995-49ea-f1ac-fb7aa9361eeb"
   },
   "outputs": [
    {
     "name": "stdout",
     "output_type": "stream",
     "text": [
      "Collecting gradio\n",
      "  Downloading gradio-5.38.1-py3-none-any.whl.metadata (16 kB)\n",
      "Collecting aiofiles<25.0,>=22.0 (from gradio)\n",
      "  Downloading aiofiles-24.1.0-py3-none-any.whl.metadata (10 kB)\n",
      "Requirement already satisfied: anyio<5.0,>=3.0 in e:\\anaconda\\lib\\site-packages (from gradio) (4.2.0)\n"
     ]
    },
    {
     "name": "stderr",
     "output_type": "stream",
     "text": [
      "ERROR: Could not install packages due to an OSError: (\"Connection broken: OSError(28, 'No space left on device')\", OSError(28, 'No space left on device'))\n",
      "\n",
      "WARNING: There was an error checking the latest version of pip.\n"
     ]
    }
   ],
   "source": [
    "!pip install gradio"
   ]
  },
  {
   "cell_type": "code",
   "execution_count": 3,
   "id": "95caca9f",
   "metadata": {
    "id": "95caca9f"
   },
   "outputs": [
    {
     "name": "stdout",
     "output_type": "stream",
     "text": [
      "The history saving thread hit an unexpected error (OperationalError('database or disk is full')).History will not be written to the database.\n"
     ]
    },
    {
     "ename": "ModuleNotFoundError",
     "evalue": "No module named 'gradio'",
     "output_type": "error",
     "traceback": [
      "\u001b[1;31m---------------------------------------------------------------------------\u001b[0m",
      "\u001b[1;31mModuleNotFoundError\u001b[0m                       Traceback (most recent call last)",
      "Cell \u001b[1;32mIn[3], line 1\u001b[0m\n\u001b[1;32m----> 1\u001b[0m \u001b[38;5;28;01mimport\u001b[39;00m \u001b[38;5;21;01mgradio\u001b[39;00m \u001b[38;5;28;01mas\u001b[39;00m \u001b[38;5;21;01mgr\u001b[39;00m\n\u001b[0;32m      2\u001b[0m \u001b[38;5;28;01mimport\u001b[39;00m \u001b[38;5;21;01mtraceback\u001b[39;00m\n",
      "\u001b[1;31mModuleNotFoundError\u001b[0m: No module named 'gradio'"
     ]
    }
   ],
   "source": [
    "import gradio as gr\n",
    "import traceback"
   ]
  },
  {
   "cell_type": "code",
   "execution_count": 5,
   "id": "9e0eee88",
   "metadata": {
    "id": "9e0eee88"
   },
   "outputs": [],
   "source": [
    "# Mock memory system using a dictionary (can be replaced with FAISS)\n",
    "learner_profiles = {}"
   ]
  },
  {
   "cell_type": "code",
   "execution_count": 4,
   "id": "a6332dc8",
   "metadata": {
    "id": "a6332dc8"
   },
   "outputs": [],
   "source": [
    "# Reasoning component: generate hints and adjust learning path\n",
    "def generate_hint(code):\n",
    "    if \"for\" in code or \"while\" in code:\n",
    "        return \"Great! You're using loops. Make sure your loop has a proper exit condition.\"\n",
    "    elif \"if\" in code:\n",
    "        return \"Conditional logic detected. Ensure your conditions cover all edge cases.\"\n",
    "    else:\n",
    "        return \"Try using control structures like loops or conditionals to solve the problem.\"\n",
    "\n",
    "def adjust_learning_path(profile):\n",
    "    return \"Next, try solving a problem that involves loops and conditionals.\""
   ]
  },
  {
   "cell_type": "code",
   "execution_count": 5,
   "id": "4fe6c68b",
   "metadata": {
    "id": "4fe6c68b"
   },
   "outputs": [],
   "source": [
    "# Code evaluation and feedback\n",
    "def evaluate_code(code):\n",
    "    try:\n",
    "        local_vars = {}\n",
    "        exec(code, {}, local_vars)\n",
    "        return \"Code executed successfully.\\nOutput Variables: \" + str(local_vars)\n",
    "    except Exception as e:\n",
    "        return \"Error in code:\\n\" + traceback.format_exc()"
   ]
  },
  {
   "cell_type": "code",
   "execution_count": 6,
   "id": "a93c2b0d",
   "metadata": {
    "id": "a93c2b0d"
   },
   "outputs": [],
   "source": [
    "# Main agent function\n",
    "def learning_agent(name, code):\n",
    "    if name not in learner_profiles:\n",
    "        learner_profiles[name] = {\"history\": []}\n",
    "    learner_profiles[name][\"history\"].append(code)\n",
    "\n",
    "    feedback = evaluate_code(code)\n",
    "    hint = generate_hint(code)\n",
    "    next_step = adjust_learning_path(learner_profiles[name])\n",
    "\n",
    "    return feedback, hint, next_step"
   ]
  },
  {
   "cell_type": "code",
   "execution_count": 7,
   "id": "c5e1794a",
   "metadata": {
    "colab": {
     "base_uri": "https://localhost:8080/",
     "height": 611
    },
    "id": "c5e1794a",
    "outputId": "8e2c55be-5bea-4918-8d2f-8c310dff1fe4"
   },
   "outputs": [
    {
     "name": "stdout",
     "output_type": "stream",
     "text": [
      "Colab notebook detected. To show errors in colab notebook, set debug=True in launch()\n",
      "* Running on public URL: https://498b97d79dacc85651.gradio.live\n",
      "\n",
      "This share link expires in 1 week. For free permanent hosting and GPU upgrades, run `gradio deploy` from the terminal in the working directory to deploy to Hugging Face Spaces (https://huggingface.co/spaces)\n"
     ]
    },
    {
     "data": {
      "text/html": [
       "<div><iframe src=\"https://498b97d79dacc85651.gradio.live\" width=\"100%\" height=\"500\" allow=\"autoplay; camera; microphone; clipboard-read; clipboard-write;\" frameborder=\"0\" allowfullscreen></iframe></div>"
      ],
      "text/plain": [
       "<IPython.core.display.HTML object>"
      ]
     },
     "metadata": {},
     "output_type": "display_data"
    },
    {
     "data": {
      "text/plain": []
     },
     "execution_count": 7,
     "metadata": {},
     "output_type": "execute_result"
    }
   ],
   "source": [
    "# Gradio interface\n",
    "iface = gr.Interface(\n",
    "    fn=learning_agent,\n",
    "    inputs=[\n",
    "        gr.Textbox(label=\"Student Name\"),\n",
    "        gr.Textbox(lines=10, label=\"Enter your Python code here\")\n",
    "    ],\n",
    "    outputs=[\n",
    "        gr.Textbox(label=\"Code Feedback\"),\n",
    "        gr.Textbox(label=\"Hint\"),\n",
    "        gr.Textbox(label=\"Next Step\")\n",
    "    ],\n",
    "    title=\"AI-Powered Interactive Learning Companion\",\n",
    "    description=\"Submit your Python code to receive feedback, hints, and personalized learning suggestions.\"\n",
    ")\n",
    "\n",
    "iface.launch(share=True)"
   ]
  }
 ],
 "metadata": {
  "colab": {
   "provenance": []
  },
  "kernelspec": {
   "display_name": "Python [conda env:base] *",
   "language": "python",
   "name": "conda-base-py"
  },
  "language_info": {
   "codemirror_mode": {
    "name": "ipython",
    "version": 3
   },
   "file_extension": ".py",
   "mimetype": "text/x-python",
   "name": "python",
   "nbconvert_exporter": "python",
   "pygments_lexer": "ipython3",
   "version": "3.12.4"
  }
 },
 "nbformat": 4,
 "nbformat_minor": 5
}
